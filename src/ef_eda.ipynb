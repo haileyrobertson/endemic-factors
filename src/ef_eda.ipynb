{
 "cells": [
  {
   "cell_type": "code",
   "execution_count": null,
   "id": "19db5050-7f28-48cd-84ce-7ba465bc3163",
   "metadata": {},
   "outputs": [],
   "source": [
    "# Purpose: Functions for data characterization that give us insight on some of\n",
    "# the basics of the data.\n",
    "# Author: Hailey Robertson\n",
    "# Date: 2024-09-34"
   ]
  },
  {
   "cell_type": "code",
   "execution_count": null,
   "id": "3a8bbdb5-d3b9-4996-b480-3226ac0a4252",
   "metadata": {},
   "outputs": [],
   "source": []
  }
 ],
 "metadata": {
  "kernelspec": {
   "display_name": "Python 3 (ipykernel)",
   "language": "python",
   "name": "python3"
  },
  "language_info": {
   "codemirror_mode": {
    "name": "ipython",
    "version": 3
   },
   "file_extension": ".py",
   "mimetype": "text/x-python",
   "name": "python",
   "nbconvert_exporter": "python",
   "pygments_lexer": "ipython3",
   "version": "3.12.5"
  }
 },
 "nbformat": 4,
 "nbformat_minor": 5
}
