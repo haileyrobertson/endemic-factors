{
 "cells": [
  {
   "cell_type": "markdown",
   "id": "19db5050-7f28-48cd-84ce-7ba465bc3163",
   "metadata": {},
   "source": [
    "# Data extraction and cleaning for SeroTracker\n",
    "### Author: Hailey Robertson\n",
    "### Date: 2024-09-24\n",
    "### Citations:\n",
    "- Whelan, Mairead G, Harriet Ware, Himanshu Ranka, Sean Kenny, Sabah Shaikh, Yannik Roell, Shaila Akter, et al. “Arbotracker: A Multipathogen Dashboard and Data Platform for Arbovirus Seroprevalence Studies.” The Lancet Infectious Diseases, September 10, 2024. https://doi.org/10.1016/s1473-3099(24)00585-1\n"
   ]
  },
  {
   "cell_type": "code",
   "execution_count": 19,
   "id": "3a8bbdb5-d3b9-4996-b480-3226ac0a4252",
   "metadata": {},
   "outputs": [],
   "source": [
    "# Imports\n",
    "import requests\n",
    "import pandas as pd\n",
    "from datetime import datetime\n",
    "import os\n",
    "import numpy as np"
   ]
  },
  {
   "cell_type": "code",
   "execution_count": 20,
   "id": "617d575a",
   "metadata": {},
   "outputs": [],
   "source": [
    "# Query for the SeroTracker API\n",
    "query = \"\"\"\n",
    "query {\n",
    "  arbovirusEstimates {\n",
    "  id\n",
    "  estimateId\n",
    "  pathogen\n",
    "  serotype\n",
    "  country\n",
    "  countryAlphaTwoCode\n",
    "  countryAlphaThreeCode\n",
    "  sampleStartDate\n",
    "  sampleEndDate\n",
    "  seroprevalence\n",
    "  city\n",
    "  state\n",
    "  latitude\n",
    "  longitude\n",
    "  unRegion\n",
    "  whoRegion\n",
    "  seroprevalenceStudy95CILower\n",
    "  seroprevalenceStudy95CIUpper\n",
    "  seroprevalenceCalculated95CILower\n",
    "  seroprevalenceCalculated95CIUpper\n",
    "  sampleSize\n",
    "  sampleNumerator\n",
    "  sampleFrame\n",
    "  antibodies\n",
    "  assay\n",
    "  assayOther\n",
    "  sameFrameTargetGroup\n",
    "  antigen\n",
    "  inclusionCriteria\n",
    "  ageGroup\n",
    "  ageMinimum\n",
    "  ageMaximum\n",
    "  pediatricAgeGroup\n",
    "  sex\n",
    "  url\n",
    "  sourceSheetId\n",
    "  sourceSheetName\n",
    "  createdAt\n",
    "  producer\n",
    "  producerOther\n",
    "  }\n",
    "}\n",
    "\"\"\"\n",
    "\n",
    "# Backend URL\n",
    "url = \"https://iit-backend-v2.vercel.app/api/graphql\"\n",
    "\n",
    "# Request to the API\n",
    "response = requests.post(\n",
    "    url,\n",
    "    json={'query': query},\n",
    "    headers={'Content-Type': 'application/json'}\n",
    ")\n",
    "\n",
    "# Check if the request was successful\n",
    "if response.status_code == 200:\n",
    "    data = response.json()\n",
    "else:\n",
    "    print(f\"Query failed with status code {response.status_code}: {response.text}\")\n"
   ]
  },
  {
   "cell_type": "code",
   "execution_count": 21,
   "id": "e1d1f5a8",
   "metadata": {},
   "outputs": [
    {
     "name": "stdout",
     "output_type": "stream",
     "text": [
      "DataFrame saved as ../data/serotracker_estimates_2024-09-24.csv\n"
     ]
    }
   ],
   "source": [
    "# Extract data and create dataframe\n",
    "if 'data' in data and 'arbovirusEstimates' in data['data']:\n",
    "    estimates = data['data']['arbovirusEstimates']\n",
    "    \n",
    "    # Create DataFrame from the estimates list\n",
    "    sero_df = pd.DataFrame(estimates)\n",
    "\n",
    "    # Replace empty lists with NaN\n",
    "    sero_df = sero_df.apply(lambda col: col.map(lambda x: np.nan if isinstance(x, list) and len(x) == 0 else x)) \n",
    "\n",
    "    # Get today's date\n",
    "    today_date = datetime.now().strftime('%Y-%m-%d')\n",
    "\n",
    "    # Define the directory to save the CSV file\n",
    "    data_directory = '../data'  # Relative path from src to data directory\n",
    "\n",
    "    # Define the filename with today's date\n",
    "    filename = f\"serotracker_estimates_{today_date}.csv\"\n",
    "\n",
    "    # Create the full path for saving the CSV\n",
    "    file_path = os.path.join(data_directory, filename)\n",
    "\n",
    "    # Save the DataFrame as a CSV file\n",
    "    sero_df.to_csv(file_path, index=False)\n",
    "\n",
    "    print(f\"DataFrame saved as {file_path}\")\n",
    "\n",
    "else:\n",
    "    print(\"No data found in the response. Check query.\")"
   ]
  },
  {
   "cell_type": "code",
   "execution_count": null,
   "id": "4042552f",
   "metadata": {},
   "outputs": [],
   "source": []
  }
 ],
 "metadata": {
  "kernelspec": {
   "display_name": "Python 3 (ipykernel)",
   "language": "python",
   "name": "python3"
  },
  "language_info": {
   "codemirror_mode": {
    "name": "ipython",
    "version": 3
   },
   "file_extension": ".py",
   "mimetype": "text/x-python",
   "name": "python",
   "nbconvert_exporter": "python",
   "pygments_lexer": "ipython3",
   "version": "3.12.0"
  }
 },
 "nbformat": 4,
 "nbformat_minor": 5
}
