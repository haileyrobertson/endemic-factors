{
 "cells": [
  {
   "cell_type": "markdown",
   "metadata": {
    "vscode": {
     "languageId": "plaintext"
    }
   },
   "source": [
    "# Data extraction and cleaning for OpenDengue\n",
    "### Author: Hailey Robertson\n",
    "### Date: 2024-09-24\n",
    "### Citations:\n",
    "- Clarke J, Lim A, Gupte P, Pigott DM, van Panhuis WG, Brady OJ. A global dataset of publicly available dengue case count data. Sci Data. 2024 Mar 14;11(1):296.\n",
    "- Clarke J, Lim A, Gupte P, Pigott DM, van Panhuis WG, Brady OJ. OpenDengue: data from the OpenDengue database. Version [1.2]. figshare; 2023. Available from: https://doi.org/10.6084/m9.figshare.24259573.\n",
    "\n",
    "\n",
    "### DONE \n",
    "- find NAs at adm2 and adm1 compared to adm0 (8% missing adm1, 44% missing adm2)\n",
    "- zero-filling – zeroes were most likely previously NAs, but not necessarily \n",
    "- dates to dates\n",
    "- floats to floats\n",
    "- match on iso3\n",
    "- observed reporting period differences (1 year, 30 days, 1 week)\n",
    "- combined place column + geocode\n"
   ]
  },
  {
   "cell_type": "markdown",
   "metadata": {},
   "source": [
    "## Imports and constants"
   ]
  },
  {
   "cell_type": "code",
   "execution_count": 1,
   "metadata": {},
   "outputs": [
    {
     "data": {
      "text/plain": [
       "True"
      ]
     },
     "execution_count": 1,
     "metadata": {},
     "output_type": "execute_result"
    }
   ],
   "source": [
    "# Imports\n",
    "import requests\n",
    "import pandas as pd\n",
    "from datetime import datetime\n",
    "import os\n",
    "import numpy as np\n",
    "import geopandas as gpd\n",
    "import country_converter as coco\n",
    "import matplotlib.pyplot as plt\n",
    "from matplotlib.gridspec import GridSpec\n",
    "from matplotlib.colors import LinearSegmentedColormap\n",
    "from matplotlib import font_manager\n",
    "import seaborn as sns\n",
    "from brokenaxes import brokenaxes\n",
    "from geopy.geocoders import Nominatim\n",
    "import pickle\n",
    "import time\n",
    "from dotenv import load_dotenv\n",
    "\n",
    "load_dotenv()"
   ]
  },
  {
   "cell_type": "code",
   "execution_count": 91,
   "metadata": {},
   "outputs": [
    {
     "data": {
      "image/png": "[encoded data removed]",
      "text/plain": [
       "<Figure size 1200x100 with 1 Axes>"
      ]
     },
     "metadata": {},
     "output_type": "display_data"
    },
    {
     "data": {
      "image/png": "[encoded data removed]",
      "text/plain": [
       "<Figure size 400x100 with 1 Axes>"
      ]
     },
     "metadata": {},
     "output_type": "display_data"
    }
   ],
   "source": [
    "colors = ['#1A5784', '#38828C', '#84B5B2', '#60904F', '#ACC253', '#E7C960', '#E49243', '#D75F58', '#A04275', '#633D71', '#8c564b', '#c7c7c7']\n",
    "sns.palplot(sns.color_palette(colors))\n",
    "\n",
    "# Define chart color palette\n",
    "chart = ['#2C2B2B','#565E69','#CACED3','#E7EAEE']\n",
    "sns.palplot(sns.color_palette(chart))\n",
    "\n",
    "# Define constants\n",
    "figure_size = (20,6)\n",
    "\n",
    "# Set background\n",
    "sns.set_context('talk') #change the size from small to medium\n",
    "sns.set_style('white') #change bg to white\n",
    "\n",
    "# Add every font at the specified location\n",
    "font_dir = ['/Users/haileyrobertson/Library/Fonts']\n",
    "for font in font_manager.findSystemFonts(font_dir):\n",
    "    font_manager.fontManager.addfont(font)\n",
    "    \n",
    "# Set font family globally\n",
    "plt.rcParams['font.family'] = 'Open Sans'\n",
    "plt.rcParams['font.weight'] = 'bold'\n",
    "\n",
    "# Set margins\n",
    "plt.rcParams['axes.xmargin'] = 0.1\n",
    "plt.rcParams['axes.ymargin'] = 0.1\n",
    "\n",
    "# Define list of date formats\n",
    "zfmts = ['', '%Y','%b\\n%Y', '%b', '%b-%d', '%H:%M', '%H:%M']\n",
    "\n",
    "# Format axes \n",
    "plt.rcParams['axes.spines.top'] = False\n",
    "plt.rcParams['axes.spines.bottom'] = True\n",
    "plt.rcParams['axes.spines.left'] = False\n",
    "plt.rcParams['axes.spines.right'] = False\n",
    "plt.rcParams['axes.axisbelow'] = True\n",
    "plt.rcParams['axes.linewidth'] = 1\n",
    "plt.rcParams['axes.titlepad'] = 30\n",
    "\n",
    "# Format ticks\n",
    "plt.rcParams[\"xtick.direction\"] = \"out\"\n",
    "plt.rcParams['xtick.major.size'] = 10\n",
    "plt.rcParams['xtick.minor.size'] = 10\n",
    "plt.rcParams['xtick.bottom'] = True\n",
    "plt.rcParams['xtick.color'] = chart[2]\n",
    "plt.rcParams['xtick.major.width'] = 1\n",
    "plt.rcParams['xtick.minor.width'] = 1\n",
    "plt.rcParams['xtick.labelcolor'] = chart[1]\n",
    "plt.rcParams['xtick.labelsize'] = 8\n",
    "\n",
    "plt.rcParams[\"ytick.direction\"] = \"in\"\n",
    "plt.rcParams[\"ytick.major.pad\"] = 0\n",
    "plt.rcParams[\"ytick.minor.pad\"] = 0\n",
    "plt.rcParams[\"ytick.major.size\"] = 10\n",
    "plt.rcParams[\"ytick.minor.size\"] = 10\n",
    "plt.rcParams[\"ytick.color\"] = chart[2]\n",
    "plt.rcParams[\"ytick.major.width\"] = 0.1\n",
    "plt.rcParams[\"ytick.minor.width\"] = 0.1\n",
    "plt.rcParams[\"ytick.labelcolor\"] = chart[1]\n",
    "plt.rcParams[\"ytick.labelsize\"] = 8\n",
    "\n",
    "\n",
    "# Adjust fontdict for title\n",
    "titlefont = {'family': 'Open Sans',\n",
    "             'color':  chart[0], \n",
    "             'weight': 400,\n",
    "             'size': 20}\n",
    "\n",
    "# Set grid style\n",
    "plt.rcParams['grid.color'] = chart[2]\n",
    "plt.rcParams['grid.linestyle'] = 'dashed'\n",
    "plt.rcParams['grid.linewidth']=0.5\n",
    "\n",
    "# Set legend style\n",
    "plt.rcParams['legend.frameon'] = False\n",
    "plt.rcParams['legend.fontsize'] = 12\n",
    "plt.rcParams['legend.handlelength'] = 1\n",
    "plt.rcParams['legend.handleheight'] = 1.125\n",
    "\n",
    "\n",
    "\n",
    "# Set axis labels\n",
    "plt.rcParams['axes.labelsize'] = 12\n",
    "plt.rcParams['axes.labelcolor'] = chart[1]"
   ]
  },
  {
   "cell_type": "code",
   "execution_count": null,
   "metadata": {},
   "outputs": [],
   "source": []
  },
  {
   "cell_type": "markdown",
   "metadata": {},
   "source": [
    "## Cleaning"
   ]
  },
  {
   "cell_type": "code",
   "execution_count": 3,
   "metadata": {},
   "outputs": [
    {
     "data": {
      "text/html": [
       "<div>\n",
       "<style scoped>\n",
       "    .dataframe tbody tr th:only-of-type {\n",
       "        vertical-align: middle;\n",
       "    }\n",
       "\n",
       "    .dataframe tbody tr th {\n",
       "        vertical-align: top;\n",
       "    }\n",
       "\n",
       "    .dataframe thead th {\n",
       "        text-align: right;\n",
       "    }\n",
       "</style>\n",
       "<table border=\"1\" class=\"dataframe\">\n",
       "  <thead>\n",
       "    <tr style=\"text-align: right;\">\n",
       "      <th></th>\n",
       "      <th>adm_0_name</th>\n",
       "      <th>adm_0_code</th>\n",
       "      <th>adm_1_name</th>\n",
       "      <th>adm_1_code</th>\n",
       "      <th>adm_2_name</th>\n",
       "      <th>adm_2_code</th>\n",
       "      <th>calendar_start_date</th>\n",
       "      <th>calendar_end_date</th>\n",
       "      <th>dengue_total</th>\n",
       "      <th>case_definition_standardised</th>\n",
       "      <th>UUID</th>\n",
       "      <th>adm_0_iso3</th>\n",
       "    </tr>\n",
       "  </thead>\n",
       "  <tbody>\n",
       "    <tr>\n",
       "      <th>0</th>\n",
       "      <td>Argentina</td>\n",
       "      <td>12.0</td>\n",
       "      <td>Salta</td>\n",
       "      <td>445.0</td>\n",
       "      <td>Oran</td>\n",
       "      <td>4781.0</td>\n",
       "      <td>2019-07-21</td>\n",
       "      <td>2019-07-27</td>\n",
       "      <td>2.0</td>\n",
       "      <td>Total</td>\n",
       "      <td>MOH-ARG-2019-Y01-00</td>\n",
       "      <td>ARG</td>\n",
       "    </tr>\n",
       "    <tr>\n",
       "      <th>1</th>\n",
       "      <td>Argentina</td>\n",
       "      <td>12.0</td>\n",
       "      <td>Misiones</td>\n",
       "      <td>442.0</td>\n",
       "      <td>Iguazu</td>\n",
       "      <td>4728.0</td>\n",
       "      <td>2019-09-01</td>\n",
       "      <td>2019-09-07</td>\n",
       "      <td>1.0</td>\n",
       "      <td>Total</td>\n",
       "      <td>MOH-ARG-2019-Y01-00</td>\n",
       "      <td>ARG</td>\n",
       "    </tr>\n",
       "    <tr>\n",
       "      <th>2</th>\n",
       "      <td>Argentina</td>\n",
       "      <td>12.0</td>\n",
       "      <td>Salta</td>\n",
       "      <td>445.0</td>\n",
       "      <td>Grl. Jose De San Martin</td>\n",
       "      <td>4773.0</td>\n",
       "      <td>2019-07-14</td>\n",
       "      <td>2019-07-20</td>\n",
       "      <td>1.0</td>\n",
       "      <td>Total</td>\n",
       "      <td>MOH-ARG-2019-Y01-00</td>\n",
       "      <td>ARG</td>\n",
       "    </tr>\n",
       "    <tr>\n",
       "      <th>3</th>\n",
       "      <td>Argentina</td>\n",
       "      <td>12.0</td>\n",
       "      <td>Jujuy</td>\n",
       "      <td>438.0</td>\n",
       "      <td>Ledesma</td>\n",
       "      <td>4649.0</td>\n",
       "      <td>2019-07-14</td>\n",
       "      <td>2019-07-20</td>\n",
       "      <td>1.0</td>\n",
       "      <td>Total</td>\n",
       "      <td>MOH-ARG-2019-Y01-00</td>\n",
       "      <td>ARG</td>\n",
       "    </tr>\n",
       "    <tr>\n",
       "      <th>4</th>\n",
       "      <td>Argentina</td>\n",
       "      <td>12.0</td>\n",
       "      <td>Salta</td>\n",
       "      <td>445.0</td>\n",
       "      <td>Grl. Jose De San Martin</td>\n",
       "      <td>4773.0</td>\n",
       "      <td>2019-06-30</td>\n",
       "      <td>2019-07-06</td>\n",
       "      <td>3.0</td>\n",
       "      <td>Total</td>\n",
       "      <td>MOH-ARG-2019-Y01-00</td>\n",
       "      <td>ARG</td>\n",
       "    </tr>\n",
       "  </tbody>\n",
       "</table>\n",
       "</div>"
      ],
      "text/plain": [
       "  adm_0_name  adm_0_code adm_1_name  adm_1_code               adm_2_name  \\\n",
       "0  Argentina        12.0      Salta       445.0                     Oran   \n",
       "1  Argentina        12.0   Misiones       442.0                   Iguazu   \n",
       "2  Argentina        12.0      Salta       445.0  Grl. Jose De San Martin   \n",
       "3  Argentina        12.0      Jujuy       438.0                  Ledesma   \n",
       "4  Argentina        12.0      Salta       445.0  Grl. Jose De San Martin   \n",
       "\n",
       "   adm_2_code calendar_start_date calendar_end_date  dengue_total  \\\n",
       "0      4781.0          2019-07-21        2019-07-27           2.0   \n",
       "1      4728.0          2019-09-01        2019-09-07           1.0   \n",
       "2      4773.0          2019-07-14        2019-07-20           1.0   \n",
       "3      4649.0          2019-07-14        2019-07-20           1.0   \n",
       "4      4773.0          2019-06-30        2019-07-06           3.0   \n",
       "\n",
       "  case_definition_standardised                 UUID adm_0_iso3  \n",
       "0                        Total  MOH-ARG-2019-Y01-00        ARG  \n",
       "1                        Total  MOH-ARG-2019-Y01-00        ARG  \n",
       "2                        Total  MOH-ARG-2019-Y01-00        ARG  \n",
       "3                        Total  MOH-ARG-2019-Y01-00        ARG  \n",
       "4                        Total  MOH-ARG-2019-Y01-00        ARG  "
      ]
     },
     "execution_count": 3,
     "metadata": {},
     "output_type": "execute_result"
    }
   ],
   "source": [
    "# Get data from master repo, reset index to access adm_0_name\n",
    "url = 'https://raw.githubusercontent.com/OpenDengue/master-repo/refs/heads/main/data/raw_data/masterDB_V1.2.csv'\n",
    "df = pd.read_csv(url, index_col=0, encoding='latin-1').reset_index()\n",
    "\n",
    "# Convert unstandardized country names into iso3 codes\n",
    "df[\"adm_0_iso3\"] = coco.convert(names=df[\"adm_0_name\"],to='ISO3', not_found=\"missing\")\n",
    "\n",
    "# Convert all date columns to datetime\n",
    "date_cols = ['calendar_start_date', 'calendar_end_date']\n",
    "df[date_cols] = df[date_cols].apply(pd.to_datetime)\n",
    "\n",
    "df.head()"
   ]
  },
  {
   "cell_type": "code",
   "execution_count": 4,
   "metadata": {},
   "outputs": [
    {
     "name": "stdout",
     "output_type": "stream",
     "text": [
      "Empty DataFrame\n",
      "Columns: [adm_0_name, adm_0_code, adm_1_name, adm_1_code, adm_2_name, adm_2_code, calendar_start_date, calendar_end_date, dengue_total, case_definition_standardised, UUID, adm_0_iso3]\n",
      "Index: []\n"
     ]
    }
   ],
   "source": [
    "# Check for missing iso3 (should be empty)\n",
    "missing_rows = df[df[\"adm_0_iso3\"] == \"missing\"]\n",
    "print(missing_rows)"
   ]
  },
  {
   "cell_type": "code",
   "execution_count": 5,
   "metadata": {},
   "outputs": [],
   "source": [
    "# World geometry shapefile, devastating that get_path(\"naturalearth_lowres\") was deprecated \n",
    "world = gpd.read_file(\"../data/ne_110m_admin_0_countries\")\n",
    "world = world.rename(columns={\"ADM0_A3\":\"adm_0_iso3\",\n",
    "                              \"ADMIN\":\"adm_0_name\",\n",
    "                              \"geometry\":\"adm_0_geometry\"})\n",
    "cols = ['adm_0_iso3','adm_0_name','adm_0_geometry']\n",
    "world = world[cols]\n",
    "world = world.sort_values(by=\"adm_0_name\")\n",
    "\n",
    "# Fix known issues in geopandas\n",
    "world.loc[world['adm_0_name'] == 'France', 'adm_0_iso3'] = 'FRA'\n",
    "world.loc[world['adm_0_name'] == 'Norway', 'adm_0_iso3'] = 'NOR'\n",
    "world.loc[world['adm_0_name'] == 'Somaliland', 'adm_0_iso3'] = 'SOM'\n",
    "world.loc[world['adm_0_name'] == 'Kosovo', 'adm_0_iso3'] = 'RKS'"
   ]
  },
  {
   "cell_type": "code",
   "execution_count": 6,
   "metadata": {},
   "outputs": [],
   "source": [
    "# Merge geometry, keeping nulls\n",
    "open_dengue = pd.merge(world,df,on='adm_0_iso3')\n",
    "\n",
    "# Deal with columns with `_x` and `_y` suffixes\n",
    "columns_to_rename = {col: col.replace('_x', '') for col in open_dengue.columns if '_x' in col}\n",
    "columns_to_drop = [col for col in open_dengue.columns if '_y' in col]\n",
    "\n",
    "# Rename the '_x' columns to their original names\n",
    "open_dengue = open_dengue.rename(columns=columns_to_rename)\n",
    "\n",
    "# Drop the '_y' columns\n",
    "open_dengue = open_dengue.drop(columns=columns_to_drop)\n"
   ]
  },
  {
   "cell_type": "code",
   "execution_count": 7,
   "metadata": {},
   "outputs": [],
   "source": [
    "# Not all periods are the same length – some places report every year, some every month, some every week\n",
    "open_dengue[\"date_diff\"] = (open_dengue[\"calendar_end_date\"] - open_dengue[\"calendar_start_date\"]).dt.days\n",
    "\n",
    "# Find geo resolution and combine places\n",
    "def highest_geo_resolution(row):\n",
    "    if pd.notna(row['adm_2_name']) and row['adm_2_name'] != '':\n",
    "        return 'adm_2'\n",
    "    elif pd.notna(row['adm_1_name']) and row['adm_1_name'] != '':\n",
    "        return 'adm_1'\n",
    "    else:\n",
    "        return 'adm_0'\n",
    "\n",
    "open_dengue['geo_resolution'] = open_dengue.apply(highest_geo_resolution, axis=1)\n",
    "\n",
    "open_dengue['combined_place'] = open_dengue[['adm_2_name', 'adm_1_name', 'adm_0_name']].apply(\n",
    "    lambda x: ', '.join([str(place) for place in x if pd.notna(place) and place != '']), axis=1)\n"
   ]
  },
  {
   "cell_type": "markdown",
   "metadata": {},
   "source": [
    "## Export"
   ]
  },
  {
   "cell_type": "code",
   "execution_count": null,
   "metadata": {},
   "outputs": [],
   "source": [
    "# # Save the DataFrame as a CSV file – too big to commit!\n",
    "# open_dengue.to_csv(\"../data/open_dengue_v1_2.csv\", index=False)"
   ]
  },
  {
   "cell_type": "markdown",
   "metadata": {},
   "source": [
    "## Figs"
   ]
  },
  {
   "cell_type": "markdown",
   "metadata": {},
   "source": [
    "### Temporal and geographic resolution"
   ]
  },
  {
   "cell_type": "code",
   "execution_count": 105,
   "metadata": {},
   "outputs": [
    {
     "data": {
      "image/png": "[encoded data removed]",
      "text/plain": [
       "<Figure size 1400x600 with 2 Axes>"
      ]
     },
     "metadata": {},
     "output_type": "display_data"
    }
   ],
   "source": [
    "# Create the figure and two subplots\n",
    "fig, (ax1, ax2) = plt.subplots(1, 2, figsize=(14, 6))\n",
    "\n",
    "# First subplot: Number of rows by reporting period\n",
    "\n",
    "trying = pd.Categorical(open_dengue['date_diff'])\n",
    "reporting_period_counts = pd.Series(trying).value_counts().sort_index()\n",
    "# reporting_period_counts = open_dengue['date_diff'].value_counts().sort_index()\n",
    "\n",
    "bars = ax1.bar(reporting_period_counts.index.astype(str), reporting_period_counts.values, color = colors[1], width = 1)\n",
    "\n",
    "# Adding height labels above each bar\n",
    "for bar in bars:\n",
    "    height = bar.get_height()\n",
    "    ax1.text(bar.get_x() + bar.get_width() / 2, height, f'{int(height)}', ha='center', va='bottom', fontsize=8, color=chart[1])\n",
    "\n",
    "\n",
    "ax1.set_title('Temporal resolution')\n",
    "ax1.set_xlabel('Reporting period (days)')\n",
    "ax1.set_ylabel('Number of rows')\n",
    "\n",
    "# Second subplot: Number of rows by geographic resolution\n",
    "geo_resolution_counts = open_dengue['geo_resolution'].value_counts()\n",
    "bars2 = ax2.bar(geo_resolution_counts.index, geo_resolution_counts.values, color=colors[1])\n",
    "\n",
    "for bar2 in bars2:\n",
    "    height = bar2.get_height()\n",
    "    ax2.text(bar2.get_x() + bar2.get_width() / 2, height, f'{int(height)}', ha='center', va='bottom', fontsize=8, color=chart[1])\n",
    "\n",
    "ax2.set_title('Geographic resolution')\n",
    "ax2.set_xlabel('Administrative level')\n",
    "ax2.set_ylabel('Number of rows')\n",
    "\n",
    "# Display the plots\n",
    "plt.tight_layout()\n",
    "plt.show()"
   ]
  },
  {
   "cell_type": "markdown",
   "metadata": {},
   "source": [
    "### Cases over time\n",
    "- Roll up to adm0\n",
    "- Roll up to year\n",
    "- Include all cases (total, suspected, probable)\n",
    "- Occurrence map (1+ cases of dengue ever)\n",
    "- Incidence (new cases over time by country, plot all of them in line chart...and then pull out some interesting examples???)\n",
    "- Seasonal incidence circular plot....\n",
    "\n",
    "#### Questions:\n",
    "- up until what year are open dengue data reliable? e.g., is 2020 complete?"
   ]
  },
  {
   "cell_type": "code",
   "execution_count": 109,
   "metadata": {},
   "outputs": [
    {
     "data": {
      "text/html": [
       "<div>\n",
       "<style scoped>\n",
       "    .dataframe tbody tr th:only-of-type {\n",
       "        vertical-align: middle;\n",
       "    }\n",
       "\n",
       "    .dataframe tbody tr th {\n",
       "        vertical-align: top;\n",
       "    }\n",
       "\n",
       "    .dataframe thead th {\n",
       "        text-align: right;\n",
       "    }\n",
       "</style>\n",
       "<table border=\"1\" class=\"dataframe\">\n",
       "  <thead>\n",
       "    <tr style=\"text-align: right;\">\n",
       "      <th></th>\n",
       "      <th>adm_0_iso3</th>\n",
       "      <th>year</th>\n",
       "      <th>adm_0_geometry</th>\n",
       "      <th>dengue_total</th>\n",
       "    </tr>\n",
       "  </thead>\n",
       "  <tbody>\n",
       "    <tr>\n",
       "      <th>0</th>\n",
       "      <td>AFG</td>\n",
       "      <td>2021</td>\n",
       "      <td>POLYGON ((66.51861 37.36278, 67.07578 37.35614...</td>\n",
       "      <td>4176.0</td>\n",
       "    </tr>\n",
       "    <tr>\n",
       "      <th>1</th>\n",
       "      <td>ARG</td>\n",
       "      <td>1998</td>\n",
       "      <td>MULTIPOLYGON (((-68.63401 -52.63637, -68.25 -5...</td>\n",
       "      <td>822.0</td>\n",
       "    </tr>\n",
       "    <tr>\n",
       "      <th>2</th>\n",
       "      <td>ARG</td>\n",
       "      <td>1999</td>\n",
       "      <td>MULTIPOLYGON (((-68.63401 -52.63637, -68.25 -5...</td>\n",
       "      <td>1700.0</td>\n",
       "    </tr>\n",
       "    <tr>\n",
       "      <th>3</th>\n",
       "      <td>ARG</td>\n",
       "      <td>2000</td>\n",
       "      <td>MULTIPOLYGON (((-68.63401 -52.63637, -68.25 -5...</td>\n",
       "      <td>1700.0</td>\n",
       "    </tr>\n",
       "    <tr>\n",
       "      <th>4</th>\n",
       "      <td>ARG</td>\n",
       "      <td>2001</td>\n",
       "      <td>MULTIPOLYGON (((-68.63401 -52.63637, -68.25 -5...</td>\n",
       "      <td>11.0</td>\n",
       "    </tr>\n",
       "  </tbody>\n",
       "</table>\n",
       "</div>"
      ],
      "text/plain": [
       "  adm_0_iso3  year                                     adm_0_geometry  \\\n",
       "0        AFG  2021  POLYGON ((66.51861 37.36278, 67.07578 37.35614...   \n",
       "1        ARG  1998  MULTIPOLYGON (((-68.63401 -52.63637, -68.25 -5...   \n",
       "2        ARG  1999  MULTIPOLYGON (((-68.63401 -52.63637, -68.25 -5...   \n",
       "3        ARG  2000  MULTIPOLYGON (((-68.63401 -52.63637, -68.25 -5...   \n",
       "4        ARG  2001  MULTIPOLYGON (((-68.63401 -52.63637, -68.25 -5...   \n",
       "\n",
       "   dengue_total  \n",
       "0        4176.0  \n",
       "1         822.0  \n",
       "2        1700.0  \n",
       "3        1700.0  \n",
       "4          11.0  "
      ]
     },
     "execution_count": 109,
     "metadata": {},
     "output_type": "execute_result"
    }
   ],
   "source": [
    "# Extract year from calendar_start_date\n",
    "open_dengue['year'] = open_dengue['calendar_start_date'].dt.year\n",
    "\n",
    "# Roll up dengue_total to adm0 level and year level\n",
    "open_dengue_rollup = open_dengue.groupby(['adm_0_iso3', 'year', 'adm_0_geometry'], as_index=False)['dengue_total'].sum()\n",
    "\n",
    "open_dengue_rollup.head()"
   ]
  },
  {
   "cell_type": "markdown",
   "metadata": {},
   "source": [
    "## Geocode"
   ]
  },
  {
   "cell_type": "code",
   "execution_count": 9,
   "metadata": {},
   "outputs": [],
   "source": [
    "# # GEOCODE places (if needed)\n",
    "#  user_agent = os.getenv(\"USER_AGENT\")\n",
    "# geolocator = Nominatim(user_agent=user_agent, timeout=10)\n",
    "\n",
    "# # Load previously saved geocoded locations to avoid duplicates\n",
    "# try:\n",
    "#     with open('../data/cached_locations.pkl', 'rb') as f:\n",
    "#         cached_locations = pickle.load(f)\n",
    "# except (FileNotFoundError, EOFError):\n",
    "#     cached_locations = {}\n",
    "\n",
    "# def geocode_location(loc):\n",
    "#     \"\"\"Geocode the address if not already cached.\"\"\"\n",
    "#     if loc in cached_locations:\n",
    "#         return cached_locations[loc]\n",
    "#     else:\n",
    "#         try:\n",
    "#             location = geolocator.geocode(loc)\n",
    "#             if location:\n",
    "#                 # Only return latitude and longitude\n",
    "#                 lat = location.latitude\n",
    "#                 long = location.longitude\n",
    "#                 lat_long = lat, long\n",
    "#                 cached_locations[loc] = {\n",
    "#                                     'latitude': lat,\n",
    "#                                     'longitude': long,\n",
    "#                                     'lat_long': lat_long\n",
    "#                 }\n",
    "#             else:\n",
    "#                 cached_locations[loc] = None\n",
    "#             # Save the cache after every new entry\n",
    "#             with open('cached_locations.pkl', 'wb') as f:\n",
    "#                 pickle.dump(cached_locations, f)\n",
    "#             return cached_locations[loc]\n",
    "#         except Exception as e:\n",
    "#             print(f\"Error geocoding {loc}: {e}\")\n",
    "#             return None\n",
    "\n",
    "# locs = open_dengue[\"combined_place\"]\n",
    "\n",
    "# open_dengue[\"latitude\"] = None\n",
    "# open_dengue[\"longitude\"] = None\n",
    "# open_dengue[\"lat_long\"] = None\n",
    "\n",
    "\n",
    "# # Delay between requests in seconds to avoid hitting the rate limit\n",
    "# REQUEST_DELAY = 0\n",
    "\n",
    "# # Geocode locations with rate limiting and caching\n",
    "# for idx, loc in enumerate(locs):\n",
    "#     coords = geocode_location(loc)\n",
    "    \n",
    "#     if coords:\n",
    "#         open_dengue.at[idx, \"latitude\"] = coords['latitude']\n",
    "#         open_dengue.at[idx, \"longitude\"] = coords['longitude']\n",
    "#         open_dengue.at[idx, \"lat_long\"] = coords['lat_long']\n",
    "#         print(f\"Address: {loc}, Coordinates: {coords}\")\n",
    "#     else:\n",
    "#         print(f\"Address: {loc}, Coordinates: Not found\")\n",
    "    \n",
    "#     # Introduce delay to avoid API rate limits\n",
    "#     time.sleep(REQUEST_DELAY)"
   ]
  }
 ],
 "metadata": {
  "kernelspec": {
   "display_name": "venv",
   "language": "python",
   "name": "python3"
  },
  "language_info": {
   "codemirror_mode": {
    "name": "ipython",
    "version": 3
   },
   "file_extension": ".py",
   "mimetype": "text/x-python",
   "name": "python",
   "nbconvert_exporter": "python",
   "pygments_lexer": "ipython3",
   "version": "3.12.0"
  }
 },
 "nbformat": 4,
 "nbformat_minor": 2
}
